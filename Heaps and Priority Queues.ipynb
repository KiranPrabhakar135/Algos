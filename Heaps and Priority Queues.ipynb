{
 "cells": [
  {
   "cell_type": "markdown",
   "metadata": {},
   "source": [
    "## Find 'k' largest element in stream of integers.\n",
    "Constraints:\n",
    "1) k can vary for every query\n",
    "2) Stream can not be stored\n"
   ]
  },
  {
   "cell_type": "code",
   "execution_count": 89,
   "metadata": {},
   "outputs": [
    {
     "name": "stdout",
     "output_type": "stream",
     "text": [
      "[755, 400, 933, 61]\n",
      "[61, 400, 933, 755]\n",
      "[-1, -1, -1, 61]\n"
     ]
    }
   ],
   "source": [
    "def min_heapify_insert(heap, index):\n",
    "    if index == 0:\n",
    "        return\n",
    "    parent = int((index-1)/2)\n",
    "    if heap[parent] > heap[index]:\n",
    "        heap[parent], heap[index] = heap[index], heap[parent]\n",
    "        min_heapify_insert(heap, parent)\n",
    "\n",
    "def min_heapify_delete(heap, index):\n",
    "    root = index\n",
    "    left = 2*root + 1\n",
    "    right = 2*root + 2\n",
    "    \n",
    "    if left < len(heap) and heap[root] > heap[left]:\n",
    "        root = left\n",
    "    if right < len(heap) and heap[root] > heap[right]:\n",
    "        root = right\n",
    "    \n",
    "    if root != index:\n",
    "        heap[root], heap[index] = heap[index], heap[root]\n",
    "        min_heapify_delete(heap, root)\n",
    "\n",
    "from random import randint\n",
    "arr = [randint(1,100) for _ in range(20)]\n",
    "arr = [755, 400, 933, 61 ]\n",
    "print(arr)\n",
    "k = 4\n",
    "result = []\n",
    "heap = []\n",
    "for ele in arr:\n",
    "    if len(heap) < k:\n",
    "        heap.append(ele)\n",
    "        if len(heap) != k:\n",
    "            result.append(-1)\n",
    "            continue\n",
    "        else:\n",
    "            i = int((len(heap)+1) / 2)\n",
    "            while i >= 0:\n",
    "                min_heapify_delete(heap, i)\n",
    "                i -= 1\n",
    "            print(heap)\n",
    "            #result.append(heap[0])  \n",
    "            \n",
    "    else:\n",
    "        if ele > heap[0]:\n",
    "            heap[0] = ele\n",
    "            min_heapify_delete(heap, 0)\n",
    "#             heap[0], heap[len(heap)-1] = heap[len(heap)-1], heap[0]\n",
    "#             heap = heap[0:len(heap)-1]\n",
    "#             min_heapify_delete(heap, 0)\n",
    "#             # print('The heap after delete is: ' + str(heap))\n",
    "#             heap.append(ele)\n",
    "#             min_heapify_insert(heap, len(heap)-1)\n",
    "    result.append(heap[0]) \n",
    "            # print('The heap ater insert is: ' + str(heap))\n",
    "#     print('-----The current element is: ' + str(ele))\n",
    "#     print('The heap is: ' + str(heap))\n",
    "            \n",
    "    # print('The result is: ' + str(result))\n",
    "\n",
    "print(result)"
   ]
  }
 ],
 "metadata": {
  "kernelspec": {
   "display_name": "Python 3",
   "language": "python",
   "name": "python3"
  },
  "language_info": {
   "codemirror_mode": {
    "name": "ipython",
    "version": 3
   },
   "file_extension": ".py",
   "mimetype": "text/x-python",
   "name": "python",
   "nbconvert_exporter": "python",
   "pygments_lexer": "ipython3",
   "version": "3.6.8"
  }
 },
 "nbformat": 4,
 "nbformat_minor": 2
}
