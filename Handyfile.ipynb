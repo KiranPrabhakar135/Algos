{
 "cells": [
  {
   "cell_type": "code",
   "execution_count": 11,
   "metadata": {},
   "outputs": [
    {
     "name": "stdout",
     "output_type": "stream",
     "text": [
      "1010\n",
      "[1, 0, 1, 0]\n",
      "10\n"
     ]
    }
   ],
   "source": [
    "# Generate sample array\n",
    "\n",
    "from random import randint\n",
    "arr = [randint(0,1000) for _ in range(0,50)]\n",
    "# integer to binary stirng/array\n",
    "a=10\n",
    "s=bin(a)\n",
    "print(s[2:]) # s=0b1010\n",
    "arr = [int(i) for i in s[2:]]\n",
    "print(arr)\n",
    "\n",
    "# binary string to int\n",
    "i = int('1010', 2)\n",
    "print(i)"
   ]
  },
  {
   "cell_type": "code",
   "execution_count": null,
   "metadata": {},
   "outputs": [],
   "source": [
    "## ascii of A-Z: 65-90\n",
    "## ascii of a-z: 97-122\n",
    "## ascii to char -> chr(65) -> 'A'\n",
    "## char to ascii -> ord(A) -> 65    "
   ]
  },
  {
   "cell_type": "code",
   "execution_count": null,
   "metadata": {},
   "outputs": [],
   "source": [
    "# Queue or stack operations:\n",
    "from collections import deque\n",
    "queue = deque([1,2,3,4]) # should array to deque \n",
    "\n",
    "# adding\n",
    "queue.append(6) # always add at the end.\n",
    "\n",
    "# removal\n",
    "queue.popleft() # removes head and behaves as queue. If queue remove from left and add from right\n",
    "queue.pop() # removes last element and behaves as stack. If stack remove from right and add from right\n",
    "\n"
   ]
  }
 ],
 "metadata": {
  "kernelspec": {
   "display_name": "Python 3",
   "language": "python",
   "name": "python3"
  },
  "language_info": {
   "codemirror_mode": {
    "name": "ipython",
    "version": 3
   },
   "file_extension": ".py",
   "mimetype": "text/x-python",
   "name": "python",
   "nbconvert_exporter": "python",
   "pygments_lexer": "ipython3",
   "version": "3.6.8"
  }
 },
 "nbformat": 4,
 "nbformat_minor": 2
}
